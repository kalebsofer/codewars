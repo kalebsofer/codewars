{
 "cells": [
  {
   "cell_type": "markdown",
   "metadata": {},
   "source": [
    "Task\n",
    "Given a neighbourhood type (\"moore\" or \"von_neumann\"), \n",
    "\n",
    "a 2D matrix (a list of lists) and a pair of coordinates, \n",
    "\n",
    "return the list of neighbours of the given cell.\n",
    "\n",
    "Notes:\n",
    "- The order of the elements in the output list is not important.\n",
    "- If the input indexes are outside the matrix, return an empty list.\n",
    "- If the the matrix is empty, return an empty list.\n",
    "- Order of the indices: The first index should be applied for the outer/first matrix layer. The last index for the most inner/last layer. coordinates = (m, n) should be apllied like mat[m][n]"
   ]
  },
  {
   "cell_type": "code",
   "execution_count": null,
   "metadata": {},
   "outputs": [],
   "source": [
    "\\ n   0    1    2    3    4\n",
    "m  --------------------------\n",
    "0  |  0 |  1 |  2 |  3 |  4 |\n",
    "1  |  5 |  6 |  7 |  8 |  9 |\n",
    "2  | 10 | 11 | 12 | 13 | 14 |\n",
    "3  | 15 | 16 | 17 | 18 | 19 |\n",
    "4  | 20 | 21 | 22 | 23 | 24 |\n",
    "   --------------------------"
   ]
  },
  {
   "cell_type": "code",
   "execution_count": 106,
   "metadata": {},
   "outputs": [],
   "source": [
    "# M = row\n",
    "# N = column\n",
    "\n",
    "def get_neighborhood(n_type, g, coordinates):\n",
    "    # define grid\n",
    "    g = [[0, 1, 2, 3, 4],\n",
    "        [5, 6, 7, 8, 9 ],\n",
    "        [10,11,12,13,14],\n",
    "        [15,16,17,18,19],\n",
    "        [20,21,22,23,24]]\n",
    "    M = coordinates[0]\n",
    "    N = coordinates[1]\n",
    "    if n_type == 'moore':\n",
    "        for i in g:\n",
    "            if M == 0:\n",
    "                if N == 0:\n",
    "                    return [g[M][N+1],g[M+1][N],g[M+1][N+1]]\n",
    "                if N == 4:\n",
    "                    return [g[M][N-1],g[M+1][N-1],g[M+1][N]]\n",
    "                else: \n",
    "                    return [g[M][N-1],g[M][N+1],g[M+1][N-1],g[M+1][N],g[M+1][N+1]]\n",
    "            if M == 4:\n",
    "                if N == 0:\n",
    "                    return [g[M-1][N-1],g[M-1][N],g[M-1][N+1],g[M][N+1]]\n",
    "                if N == 4:\n",
    "                    return [g[M-1][N-1],g[M-1][N],g[M-1][N+1],g[M][N-1]]\n",
    "                else: \n",
    "                    return [g[M-1][N-1],g[M-1][N],g[M-1][N+1],g[M][N-1],g[M][N+1]]\n",
    "            else:\n",
    "                return [g[M-1][N-1],g[M-1][N],g[M-1][N+1],g[M][N-1],g[M][N+1],g[M+1][N-1],g[M+1][N],g[M+1][N+1]]\n",
    "\n",
    "    if n_type == \"von_neumann\":\n",
    "        for i in g:\n",
    "            if M == 0:\n",
    "                if N == 0:\n",
    "                    return [g[M][N+1],g[M+1][N]]\n",
    "                if N == 4:\n",
    "                    return [g[M+1][N],g[M][N-1]]\n",
    "                else: \n",
    "                    return [g[M][N-1],g[M][N+1],g[M+1][N]]\n",
    "            if M == 4:\n",
    "                if N == 0:\n",
    "                    return [g[M-1][N],g[M][N+1]]\n",
    "                if N == 4:\n",
    "                    return [g[M-1][N],g[M][N-1]]\n",
    "                else: \n",
    "                    return [g[M-1][N],g[M][N-1],g[M][N+1]]\n",
    "            else:\n",
    "                return [g[M-1][N],g[M][N-1],g[M][N+1],g[M+1][N]]"
   ]
  },
  {
   "cell_type": "code",
   "execution_count": 107,
   "metadata": {},
   "outputs": [
    {
     "ename": "NameError",
     "evalue": "name 'g' is not defined",
     "output_type": "error",
     "traceback": [
      "\u001b[0;31m---------------------------------------------------------------------------\u001b[0m",
      "\u001b[0;31mNameError\u001b[0m                                 Traceback (most recent call last)",
      "\u001b[0;32m<ipython-input-107-b25ba304ceac>\u001b[0m in \u001b[0;36m<module>\u001b[0;34m\u001b[0m\n\u001b[0;32m----> 1\u001b[0;31m \u001b[0mget_neighborhood\u001b[0m\u001b[0;34m(\u001b[0m\u001b[0;34m\"moore\"\u001b[0m\u001b[0;34m,\u001b[0m \u001b[0mg\u001b[0m\u001b[0;34m,\u001b[0m \u001b[0;34m(\u001b[0m\u001b[0;36m1\u001b[0m\u001b[0;34m,\u001b[0m\u001b[0;36m1\u001b[0m\u001b[0;34m)\u001b[0m\u001b[0;34m)\u001b[0m\u001b[0;34m\u001b[0m\u001b[0;34m\u001b[0m\u001b[0m\n\u001b[0m",
      "\u001b[0;31mNameError\u001b[0m: name 'g' is not defined"
     ]
    }
   ],
   "source": [
    "get_neighborhood(\"moore\", g, (1,1))"
   ]
  },
  {
   "cell_type": "code",
   "execution_count": 100,
   "metadata": {},
   "outputs": [
    {
     "data": {
      "text/plain": [
       "[1, 5, 6]"
      ]
     },
     "execution_count": 100,
     "metadata": {},
     "output_type": "execute_result"
    }
   ],
   "source": [
    "get_neighborhood(\"moore\", (0,0))"
   ]
  },
  {
   "cell_type": "code",
   "execution_count": 101,
   "metadata": {},
   "outputs": [
    {
     "data": {
      "text/plain": [
       "[1, 5, 7, 11]"
      ]
     },
     "execution_count": 101,
     "metadata": {},
     "output_type": "execute_result"
    }
   ],
   "source": [
    "get_neighborhood(\"von_neumann\", (1,1))"
   ]
  },
  {
   "cell_type": "code",
   "execution_count": 102,
   "metadata": {},
   "outputs": [
    {
     "data": {
      "text/plain": [
       "[16, 17, 18, 21, 23]"
      ]
     },
     "execution_count": 102,
     "metadata": {},
     "output_type": "execute_result"
    }
   ],
   "source": [
    "get_neighborhood(\"moore\", (4,2)) # == [21, 16, 17, 18, 23]"
   ]
  },
  {
   "cell_type": "code",
   "execution_count": 103,
   "metadata": {},
   "outputs": [
    {
     "data": {
      "text/plain": [
       "[1, 5, 7, 11]"
      ]
     },
     "execution_count": 103,
     "metadata": {},
     "output_type": "execute_result"
    }
   ],
   "source": [
    "get_neighborhood(\"von_neumann\", (1,1)) # == [1, 5, 7, 11]"
   ]
  },
  {
   "cell_type": "code",
   "execution_count": 104,
   "metadata": {},
   "outputs": [
    {
     "data": {
      "text/plain": [
       "[1, 5]"
      ]
     },
     "execution_count": 104,
     "metadata": {},
     "output_type": "execute_result"
    }
   ],
   "source": [
    "get_neighborhood(\"von_neumann\", (0,0)) # == [1, 5]"
   ]
  },
  {
   "cell_type": "code",
   "execution_count": 105,
   "metadata": {},
   "outputs": [
    {
     "data": {
      "text/plain": [
       "[17, 21, 23]"
      ]
     },
     "execution_count": 105,
     "metadata": {},
     "output_type": "execute_result"
    }
   ],
   "source": [
    "get_neighborhood(\"von_neumann\", (4,2)) # == [21, 17, 23]"
   ]
  },
  {
   "cell_type": "code",
   "execution_count": null,
   "metadata": {},
   "outputs": [],
   "source": []
  },
  {
   "cell_type": "code",
   "execution_count": null,
   "metadata": {},
   "outputs": [],
   "source": [
    "# Boolean Logic from scratch \n",
    "const xor = (a, b) => {\n",
    "a=Boolean(a);\n",
    "b=Boolean(b);\n",
    "if (a===false&&b==true) return true\n",
    "if (a===true&&b==true) return false\n",
    "if (a===false&&b==false) return false\n",
    "if (a===true&&b==false) return true\n",
    "};\n",
    "\n",
    "const or = (a, b) => {\n",
    "a=Boolean(a);\n",
    "b=Boolean(b);\n",
    "if (a===true&&b==false) return true\n",
    "if (a===true&&b==true) return true\n",
    "if (a===false&&b==false) return false\n",
    "if (a===false&&b==true) return true\n",
    "};"
   ]
  }
 ],
 "metadata": {
  "kernelspec": {
   "display_name": "Python 3",
   "language": "python",
   "name": "python3"
  },
  "language_info": {
   "codemirror_mode": {
    "name": "ipython",
    "version": 3
   },
   "file_extension": ".py",
   "mimetype": "text/x-python",
   "name": "python",
   "nbconvert_exporter": "python",
   "pygments_lexer": "ipython3",
   "version": "3.7.3"
  }
 },
 "nbformat": 4,
 "nbformat_minor": 2
}
