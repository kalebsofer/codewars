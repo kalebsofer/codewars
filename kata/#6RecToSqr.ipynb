{
 "cells": [
  {
   "cell_type": "markdown",
   "metadata": {},
   "source": [
    "You will be given two dimensions\n",
    "\n",
    "- a positive integer length (parameter named lng)\n",
    "- a positive integer width (parameter named wdth)\n",
    "You will return an array or a string (depending on the language, with the size of each of the squares."
   ]
  },
  {
   "cell_type": "code",
   "execution_count": 38,
   "metadata": {},
   "outputs": [],
   "source": [
    "def sqInRect(lng, wdth):\n",
    "    if lng == wdth:\n",
    "        return None\n",
    "    \n",
    "    list = []\n",
    "    list.append(min(lng, wdth))\n",
    "    while lng != wdth:\n",
    "        minNum = min(lng, wdth)\n",
    "        maxNum = max(lng, wdth)\n",
    "        lng = minNum\n",
    "        wdth = maxNum - minNum\n",
    "        list.append(min(lng, wdth))  \n",
    "    return list"
   ]
  },
  {
   "cell_type": "code",
   "execution_count": 39,
   "metadata": {},
   "outputs": [
    {
     "data": {
      "text/plain": [
       "[3, 2, 1, 1]"
      ]
     },
     "execution_count": 39,
     "metadata": {},
     "output_type": "execute_result"
    }
   ],
   "source": [
    "sqInRect(5, 3) # [3, 2, 1, 1]"
   ]
  },
  {
   "cell_type": "code",
   "execution_count": null,
   "metadata": {},
   "outputs": [],
   "source": []
  },
  {
   "cell_type": "code",
   "execution_count": null,
   "metadata": {},
   "outputs": [],
   "source": []
  }
 ],
 "metadata": {
  "kernelspec": {
   "display_name": "Python 3",
   "language": "python",
   "name": "python3"
  },
  "language_info": {
   "codemirror_mode": {
    "name": "ipython",
    "version": 3
   },
   "file_extension": ".py",
   "mimetype": "text/x-python",
   "name": "python",
   "nbconvert_exporter": "python",
   "pygments_lexer": "ipython3",
   "version": "3.7.0"
  }
 },
 "nbformat": 4,
 "nbformat_minor": 2
}
