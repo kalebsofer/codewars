{
 "cells": [
  {
   "cell_type": "markdown",
   "metadata": {},
   "source": [
    "Build Tower by the following given argument:\n",
    "number of floors (integer and always greater than 0).\n",
    "\n",
    "Tower block is represented as *\n",
    "\n",
    "Python: return a list"
   ]
  },
  {
   "cell_type": "code",
   "execution_count": 1,
   "metadata": {},
   "outputs": [],
   "source": [
    "def tower_builder(n_floors):\n",
    "    floors = []\n",
    "    floors = list(range(n_floors+1))\n",
    "    for i in floors:\n",
    "        if i > 0:\n",
    "            print((n_floors-i)*' ' + ('*'*((i*2)-1) + (n_floors-i)*' '))"
   ]
  },
  {
   "cell_type": "code",
   "execution_count": 2,
   "metadata": {},
   "outputs": [
    {
     "name": "stdout",
     "output_type": "stream",
     "text": [
      "     *     \n",
      "    ***    \n",
      "   *****   \n",
      "  *******  \n",
      " ********* \n",
      "***********\n"
     ]
    }
   ],
   "source": [
    "tower_builder(6)"
   ]
  },
  {
   "cell_type": "code",
   "execution_count": 3,
   "metadata": {},
   "outputs": [
    {
     "name": "stdout",
     "output_type": "stream",
     "text": [
      "*\n"
     ]
    }
   ],
   "source": [
    "tower_builder(1)"
   ]
  },
  {
   "cell_type": "code",
   "execution_count": 4,
   "metadata": {},
   "outputs": [
    {
     "name": "stdout",
     "output_type": "stream",
     "text": [
      " * \n",
      "***\n"
     ]
    }
   ],
   "source": [
    "tower_builder(2)"
   ]
  },
  {
   "cell_type": "code",
   "execution_count": 5,
   "metadata": {},
   "outputs": [
    {
     "name": "stdout",
     "output_type": "stream",
     "text": [
      "  *  \n",
      " *** \n",
      "*****\n"
     ]
    }
   ],
   "source": [
    "tower_builder(3)"
   ]
  },
  {
   "cell_type": "code",
   "execution_count": 16,
   "metadata": {},
   "outputs": [],
   "source": [
    "def tower_builder2(n_floors):\n",
    "    # build here\n",
    "    res = []\n",
    "    temp = ''\n",
    "    for i in range(n_floors):\n",
    "      temp = ''\n",
    "      for t in range(n_floors-i-1):\n",
    "        temp += ' '\n",
    "      print (temp)\n",
    "      for j in range(2*i+1):\n",
    "        temp += '*'\n",
    "      print (temp)\n",
    "      for k in range(n_floors-i-1):\n",
    "        temp += ' '\n",
    "      res.append(temp)\n",
    "    print(res)\n",
    "    return res"
   ]
  },
  {
   "cell_type": "code",
   "execution_count": 17,
   "metadata": {},
   "outputs": [
    {
     "name": "stdout",
     "output_type": "stream",
     "text": [
      "     \n",
      "     *\n",
      "    \n",
      "    ***\n",
      "   \n",
      "   *****\n",
      "  \n",
      "  *******\n",
      " \n",
      " *********\n",
      "\n",
      "***********\n",
      "['     *     ', '    ***    ', '   *****   ', '  *******  ', ' ********* ', '***********']\n"
     ]
    },
    {
     "data": {
      "text/plain": [
       "['     *     ',\n",
       " '    ***    ',\n",
       " '   *****   ',\n",
       " '  *******  ',\n",
       " ' ********* ',\n",
       " '***********']"
      ]
     },
     "execution_count": 17,
     "metadata": {},
     "output_type": "execute_result"
    }
   ],
   "source": [
    "tower_builder2(6)"
   ]
  },
  {
   "cell_type": "code",
   "execution_count": null,
   "metadata": {},
   "outputs": [],
   "source": []
  }
 ],
 "metadata": {
  "kernelspec": {
   "display_name": "Python 3",
   "language": "python",
   "name": "python3"
  },
  "language_info": {
   "codemirror_mode": {
    "name": "ipython",
    "version": 3
   },
   "file_extension": ".py",
   "mimetype": "text/x-python",
   "name": "python",
   "nbconvert_exporter": "python",
   "pygments_lexer": "ipython3",
   "version": "3.7.0"
  }
 },
 "nbformat": 4,
 "nbformat_minor": 2
}
