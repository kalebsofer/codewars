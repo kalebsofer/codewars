{
 "cells": [
  {
   "cell_type": "markdown",
   "metadata": {},
   "source": [
    "Create a Vector object that supports addition, subtraction, dot products, and norms.\n",
    "\n",
    "a = Vector([1, 2, 3])\n",
    "b = Vector([3, 4, 5])\n",
    "c = Vector([5, 6, 7, 8])\n",
    "\n",
    "- a.add(b)      # should return a new Vector([4, 6, 8])\n",
    "- a.subtract(b) # should return a new Vector([-2, -2, -2])\n",
    "- a.dot(b)      # should return 1*3 + 2*4 + 3*5 = 26\n",
    "- a.norm()      # should return sqrt(1^2 + 2^2 + 3^2) = sqrt(14)\n",
    "- a.add(c)      # raises an exception"
   ]
  },
  {
   "cell_type": "code",
   "execution_count": 97,
   "metadata": {},
   "outputs": [],
   "source": [
    "import numpy\n",
    "import math"
   ]
  },
  {
   "cell_type": "code",
   "execution_count": 105,
   "metadata": {},
   "outputs": [],
   "source": [
    "class Vector:\n",
    "    def __init__(self, vec):\n",
    "        self.vec = vec\n",
    "        self.len = len(vec)\n",
    " \n",
    "    def add(self, vec):\n",
    "        if self.len == vec.len:\n",
    "            return Vector([x+y for x,y in zip(self.vec, vec.vec)])\n",
    "    \n",
    "    def subtract(self, vec):\n",
    "        if self.len == vec.len:\n",
    "            return Vector([x-y for x,y in zip(self.vec, vec.vec)])\n",
    "    \n",
    "    def dot(self, vec):\n",
    "        if self.len == vec.len:\n",
    "            return sum([x*y for x,y in zip(self.vec, vec.vec)])\n",
    "    \n",
    "    def norm(self):\n",
    "        vecsquared = [x**2 for x in self.vec]\n",
    "        return math.sqrt(sum(vecsquared))\n",
    "    \n",
    "    def __str__(self):\n",
    "        return '(%s)' % ','.join(str(x) for x in self.vec)\n",
    "    \n",
    "    def equals(self, vec):\n",
    "        if self.vec == vec.vec:\n",
    "            return True\n",
    "        return False"
   ]
  },
  {
   "cell_type": "code",
   "execution_count": null,
   "metadata": {},
   "outputs": [],
   "source": []
  },
  {
   "cell_type": "code",
   "execution_count": null,
   "metadata": {},
   "outputs": [],
   "source": []
  },
  {
   "cell_type": "code",
   "execution_count": null,
   "metadata": {},
   "outputs": [],
   "source": []
  },
  {
   "cell_type": "code",
   "execution_count": null,
   "metadata": {},
   "outputs": [],
   "source": []
  },
  {
   "cell_type": "code",
   "execution_count": null,
   "metadata": {},
   "outputs": [],
   "source": []
  },
  {
   "cell_type": "code",
   "execution_count": null,
   "metadata": {},
   "outputs": [],
   "source": []
  },
  {
   "cell_type": "code",
   "execution_count": null,
   "metadata": {},
   "outputs": [],
   "source": []
  },
  {
   "cell_type": "code",
   "execution_count": null,
   "metadata": {},
   "outputs": [],
   "source": []
  }
 ],
 "metadata": {
  "kernelspec": {
   "display_name": "Python 3",
   "language": "python",
   "name": "python3"
  },
  "language_info": {
   "codemirror_mode": {
    "name": "ipython",
    "version": 3
   },
   "file_extension": ".py",
   "mimetype": "text/x-python",
   "name": "python",
   "nbconvert_exporter": "python",
   "pygments_lexer": "ipython3",
   "version": "3.7.3"
  }
 },
 "nbformat": 4,
 "nbformat_minor": 2
}
