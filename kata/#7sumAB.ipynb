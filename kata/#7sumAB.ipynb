{
 "cells": [
  {
   "cell_type": "markdown",
   "metadata": {},
   "source": [
    "Given two integers a and b, which can be positive or negative, \n",
    "find the sum of all the numbers between including them too and return it. \n",
    "\n",
    "If the two numbers are equal return a or b.\n",
    "\n",
    "Note: a and b are not ordered!"
   ]
  },
  {
   "cell_type": "code",
   "execution_count": 99,
   "metadata": {},
   "outputs": [],
   "source": [
    "def get_sum(a,b):\n",
    "    val = 0\n",
    "    if a*b >= 0:\n",
    "        for i in range(a, b+1):\n",
    "            val += i\n",
    "        return val\n",
    "    if a*b <= 0:\n",
    "        for i in range(a, b):\n",
    "            val += i\n",
    "        return val\n",
    "    if a == b:\n",
    "        return a"
   ]
  },
  {
   "cell_type": "code",
   "execution_count": 100,
   "metadata": {},
   "outputs": [
    {
     "data": {
      "text/plain": [
       "-6"
      ]
     },
     "execution_count": 100,
     "metadata": {},
     "output_type": "execute_result"
    }
   ],
   "source": [
    "get_sum(-3, 1)"
   ]
  },
  {
   "cell_type": "code",
   "execution_count": 111,
   "metadata": {},
   "outputs": [],
   "source": [
    "def get_sum3(a,b):\n",
    "    if a == b:\n",
    "        return a\n",
    "    s = 0\n",
    "    for n in range(min(a,b), max(a,b)+1):\n",
    "        s += n\n",
    "    return s"
   ]
  },
  {
   "cell_type": "code",
   "execution_count": 115,
   "metadata": {},
   "outputs": [
    {
     "data": {
      "text/plain": [
       "3"
      ]
     },
     "execution_count": 115,
     "metadata": {},
     "output_type": "execute_result"
    }
   ],
   "source": [
    "get_sum3(-2,3)"
   ]
  },
  {
   "cell_type": "code",
   "execution_count": null,
   "metadata": {},
   "outputs": [],
   "source": []
  },
  {
   "cell_type": "code",
   "execution_count": null,
   "metadata": {},
   "outputs": [],
   "source": []
  }
 ],
 "metadata": {
  "kernelspec": {
   "display_name": "Python 3",
   "language": "python",
   "name": "python3"
  },
  "language_info": {
   "codemirror_mode": {
    "name": "ipython",
    "version": 3
   },
   "file_extension": ".py",
   "mimetype": "text/x-python",
   "name": "python",
   "nbconvert_exporter": "python",
   "pygments_lexer": "ipython3",
   "version": "3.7.0"
  }
 },
 "nbformat": 4,
 "nbformat_minor": 2
}
