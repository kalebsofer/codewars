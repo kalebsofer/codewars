{
 "cells": [
  {
   "cell_type": "code",
   "execution_count": 1,
   "metadata": {},
   "outputs": [],
   "source": [
    "def men_still_standing(cards):\n",
    "    ateam = 11\n",
    "    bteam = 11\n",
    "    \n",
    "    def count_dups(cards):\n",
    "        aseq = [i for i in cards if i[0] == 'A' and i[-1] == 'Y']\n",
    "        bseq = [i for i in cards if i[0] == 'B' and i[-1] == 'Y']\n",
    "        adups = len(aseq) - len(set(aseq))\n",
    "        bdups = len(bseq) - len(set(bseq))\n",
    "        return adups, bdups\n",
    "    \n",
    "    def count_red(cards):\n",
    "        set1 = set(cards)\n",
    "        ared = {i for i in set1 if i[0] == 'A' and i[-1] == 'R'}\n",
    "        bred = {i for i in set1 if i[0] == 'B' and i[-1] == 'R'}\n",
    "        countAR = len(ared)\n",
    "        countBR = len(bred)\n",
    "        return countAR, countBR \n",
    "    \n",
    "    adups, bdups = count_dups(cards)\n",
    "    areds, breds = count_red(cards)\n",
    "    \n",
    "    ateam -= (adups + areds)\n",
    "    bteam -= (bdups + breds)\n",
    "    \n",
    "    ateam = max(min(11, ateam), 6)\n",
    "    bteam = max(min(11, bteam), 6)\n",
    "        \n",
    "    return ateam, bteam"
   ]
  },
  {
   "cell_type": "code",
   "execution_count": null,
   "metadata": {},
   "outputs": [],
   "source": []
  }
 ],
 "metadata": {
  "kernelspec": {
   "display_name": "Python 3",
   "language": "python",
   "name": "python3"
  },
  "language_info": {
   "codemirror_mode": {
    "name": "ipython",
    "version": 3
   },
   "file_extension": ".py",
   "mimetype": "text/x-python",
   "name": "python",
   "nbconvert_exporter": "python",
   "pygments_lexer": "ipython3",
   "version": "3.7.3"
  }
 },
 "nbformat": 4,
 "nbformat_minor": 2
}
