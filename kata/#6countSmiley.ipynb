{
 "cells": [
  {
   "cell_type": "markdown",
   "metadata": {},
   "source": [
    "Given an array (arr) as an argument complete the function countSmileys that should return the total number of smiling faces.\n",
    "\n",
    "Rules for a smiling face:\n",
    "\n",
    "-Each smiley face must contain a valid pair of eyes. Eyes can be marked as : or ;\n",
    "\n",
    "-A smiley face can have a nose but it does not have to. Valid characters for a nose are - or ~\n",
    "\n",
    "-Every smiling face must have a smiling mouth that should be marked with either ) or D."
   ]
  },
  {
   "cell_type": "code",
   "execution_count": null,
   "metadata": {},
   "outputs": [],
   "source": [
    "# if array starts with : or ;\n",
    "# and next is - or ~,  or ) or D\n",
    "    # if  - or ~, next is ) or D\n",
    "    # count += 1"
   ]
  },
  {
   "cell_type": "code",
   "execution_count": 19,
   "metadata": {},
   "outputs": [],
   "source": [
    "def count_smileys(arr):\n",
    "    count = 0\n",
    "    for face in arr:\n",
    "        if face[0] == ':' or i[0] == ';':\n",
    "            if face[1] == '-' or face[1] == '~' or face[1] == ')' or face[1] == 'D':\n",
    "                if face[1] == '-' or face[1] == '~':\n",
    "                    face[2] == ')' or face[2] == 'D'\n",
    "    count += 1\n",
    "    return count"
   ]
  },
  {
   "cell_type": "code",
   "execution_count": 20,
   "metadata": {},
   "outputs": [
    {
     "data": {
      "text/plain": [
       "1"
      ]
     },
     "execution_count": 20,
     "metadata": {},
     "output_type": "execute_result"
    }
   ],
   "source": [
    "count_smileys([':)',':(',':D',':O',':;']) #2"
   ]
  },
  {
   "cell_type": "code",
   "execution_count": 24,
   "metadata": {},
   "outputs": [],
   "source": [
    "def count_smileys2(arr):\n",
    "    count = 0\n",
    "    for i in arr:\n",
    "        # add 1 to count def check is satisfied fro given index \n",
    "      if check(i):\n",
    "        count += 1\n",
    "    return count\n",
    "def check(i):\n",
    "    # index[0] is not : or ; return false\n",
    "    if i[0] != ':' and i[0] != ';':\n",
    "      return False\n",
    "    if len(i) == 3 and i[1] != '-' and i[1] != '~':\n",
    "      return False\n",
    "    if len(i) == 3 and i[2] != ')' and i[2] != 'D':\n",
    "      return False\n",
    "    if len(i) == 2 and i[1] != ')' and i[1] != 'D':\n",
    "      return False\n",
    "    return True"
   ]
  },
  {
   "cell_type": "code",
   "execution_count": 25,
   "metadata": {},
   "outputs": [
    {
     "data": {
      "text/plain": [
       "2"
      ]
     },
     "execution_count": 25,
     "metadata": {},
     "output_type": "execute_result"
    }
   ],
   "source": [
    "count_smileys2([':)',':(',':D',':O',':;']) #2"
   ]
  },
  {
   "cell_type": "code",
   "execution_count": null,
   "metadata": {},
   "outputs": [],
   "source": []
  }
 ],
 "metadata": {
  "kernelspec": {
   "display_name": "Python 3",
   "language": "python",
   "name": "python3"
  },
  "language_info": {
   "codemirror_mode": {
    "name": "ipython",
    "version": 3
   },
   "file_extension": ".py",
   "mimetype": "text/x-python",
   "name": "python",
   "nbconvert_exporter": "python",
   "pygments_lexer": "ipython3",
   "version": "3.7.0"
  }
 },
 "nbformat": 4,
 "nbformat_minor": 2
}
