{
 "cells": [
  {
   "cell_type": "code",
   "execution_count": null,
   "metadata": {},
   "outputs": [],
   "source": [
    "# Boolean Logic from scratch "
   ]
  },
  {
   "cell_type": "code",
   "execution_count": 2,
   "metadata": {},
   "outputs": [
    {
     "ename": "SyntaxError",
     "evalue": "invalid syntax (<ipython-input-2-e4fe4939b590>, line 1)",
     "output_type": "error",
     "traceback": [
      "\u001b[0;36m  File \u001b[0;32m\"<ipython-input-2-e4fe4939b590>\"\u001b[0;36m, line \u001b[0;32m1\u001b[0m\n\u001b[0;31m    const xor = (a, b) => {\u001b[0m\n\u001b[0m            ^\u001b[0m\n\u001b[0;31mSyntaxError\u001b[0m\u001b[0;31m:\u001b[0m invalid syntax\n"
     ]
    }
   ],
   "source": [
    "const xor = (a, b) => {\n",
    "a=Boolean(a);\n",
    "b=Boolean(b);\n",
    "if (a===false&&b==true) return true\n",
    "if (a===true&&b==true) return false\n",
    "if (a===false&&b==false) return false\n",
    "if (a===true&&b==false) return true\n",
    "};\n",
    "\n",
    "const or = (a, b) => {\n",
    "a=Boolean(a);\n",
    "b=Boolean(b);\n",
    "if (a===true&&b==false) return true\n",
    "if (a===true&&b==true) return true\n",
    "if (a===false&&b==false) return false\n",
    "if (a===false&&b==true) return true\n",
    "};"
   ]
  },
  {
   "cell_type": "code",
   "execution_count": null,
   "metadata": {},
   "outputs": [],
   "source": [
    "or(true, true) #true || true);"
   ]
  },
  {
   "cell_type": "code",
   "execution_count": null,
   "metadata": {},
   "outputs": [],
   "source": [
    "or(true, false) #true || false);"
   ]
  },
  {
   "cell_type": "code",
   "execution_count": null,
   "metadata": {},
   "outputs": [],
   "source": [
    "or(false, true) #false || true);"
   ]
  },
  {
   "cell_type": "code",
   "execution_count": null,
   "metadata": {},
   "outputs": [],
   "source": [
    "or(false, false) #false || false);"
   ]
  }
 ],
 "metadata": {
  "kernelspec": {
   "display_name": "Python 3",
   "language": "python",
   "name": "python3"
  },
  "language_info": {
   "codemirror_mode": {
    "name": "ipython",
    "version": 3
   },
   "file_extension": ".py",
   "mimetype": "text/x-python",
   "name": "python",
   "nbconvert_exporter": "python",
   "pygments_lexer": "ipython3",
   "version": "3.7.3"
  }
 },
 "nbformat": 4,
 "nbformat_minor": 2
}
