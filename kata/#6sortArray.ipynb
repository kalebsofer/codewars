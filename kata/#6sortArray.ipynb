{
 "cells": [
  {
   "cell_type": "code",
   "execution_count": null,
   "metadata": {},
   "outputs": [],
   "source": []
  },
  {
   "cell_type": "code",
   "execution_count": 1,
   "metadata": {},
   "outputs": [],
   "source": [
    "def sort_array(arr):\n",
    "    if len(arr) == 0:\n",
    "          return arr\n",
    "    odd = []\n",
    "    for i in range(len(arr)):\n",
    "          if arr[i] % 2 == 1:\n",
    "                odd.append(arr[i])\n",
    "                arr[i] = -999\n",
    "    odd.sort()\n",
    "    k = 0\n",
    "    for i in range(len(arr)):\n",
    "        if arr[i] == -999:\n",
    "            arr[i] = odd[k]\n",
    "            k += 1\n",
    "    return arr"
   ]
  },
  {
   "cell_type": "code",
   "execution_count": null,
   "metadata": {},
   "outputs": [],
   "source": [
    "sort"
   ]
  }
 ],
 "metadata": {
  "kernelspec": {
   "display_name": "Python 3",
   "language": "python",
   "name": "python3"
  },
  "language_info": {
   "codemirror_mode": {
    "name": "ipython",
    "version": 3
   },
   "file_extension": ".py",
   "mimetype": "text/x-python",
   "name": "python",
   "nbconvert_exporter": "python",
   "pygments_lexer": "ipython3",
   "version": "3.7.3"
  }
 },
 "nbformat": 4,
 "nbformat_minor": 2
}
