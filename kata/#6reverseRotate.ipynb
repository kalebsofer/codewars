{
 "cells": [
  {
   "cell_type": "markdown",
   "metadata": {},
   "source": [
    "The input is a string str of digits. Cut the string into chunks of size sz \n",
    "\n",
    "(a chunk here is a substring of the initial string) \n",
    "\n",
    "(ignore the last chunk if its size is less than sz).\n",
    "\n",
    "If a chunk represents an integer such as the sum of the cubes of its digits is divisible by 2, reverse that chunk; \n",
    "\n",
    "otherwise rotate it to the left by one position. Put together these modified chunks and return the result as a string.\n",
    "\n",
    "If\n",
    "\n",
    "sz is <= 0 or if str is empty return \"\"\n",
    "sz is greater (>) than the length of str it is impossible to take a chunk of size sz hence return \"\"."
   ]
  },
  {
   "cell_type": "markdown",
   "metadata": {},
   "source": [
    "revrot(\"123456987654\", 6) --> \"234561876549\"\n",
    "\n",
    "revrot(\"123456987653\", 6) --> \"234561356789\"\n",
    "\n",
    "revrot(\"66443875\", 4) --> \"44668753\"\n",
    "\n",
    "revrot(\"66443875\", 8) --> \"64438756"
   ]
  },
  {
   "cell_type": "code",
   "execution_count": null,
   "metadata": {},
   "outputs": [],
   "source": [
    "def revrot(dst, sz):\n",
    "    # split string by length sz, convert to list\n",
    "    list1 = ([int(dst[i:i+3]) for i in range(0, len(dst), sz)])  \n",
    "    list2 = list(map(lambda j:[j], list1))\n",
    "    #for each sz\n",
    "    for k in list2:\n",
    "        # cube each digit, sum them\n",
    "        \n",
    "        # if divisible by 2:\n",
    "            #reverse chunk\n",
    "        # else:\n",
    "            # add first item to end \n",
    "            #remove first item \n",
    "    # join chunks as single list, convert to string\n",
    "    if sz is <= 0:\n",
    "        return 'sz > than the length of str, it is impossible to take a chunk of size sz hence return'\n",
    "    if len(dst) = 0:\n",
    "        return 'sz > than the length of str, it is impossible to take a chunk of size sz hence return'\n",
    "    return "
   ]
  },
  {
   "cell_type": "code",
   "execution_count": null,
   "metadata": {},
   "outputs": [],
   "source": [
    "revrot(\"123456987654\", 6) # --> \"234561876549\""
   ]
  },
  {
   "cell_type": "code",
   "execution_count": 139,
   "metadata": {},
   "outputs": [
    {
     "data": {
      "text/plain": [
       "[123, 456, 987, 654]"
      ]
     },
     "execution_count": 139,
     "metadata": {},
     "output_type": "execute_result"
    }
   ],
   "source": [
    "dst = '123456987654'\n",
    "sz = 3\n",
    "list1 = ([int(dst[i:i+sz]) for i in range(0, len(dst), sz)])\n",
    "list1"
   ]
  },
  {
   "cell_type": "code",
   "execution_count": 180,
   "metadata": {},
   "outputs": [
    {
     "name": "stdout",
     "output_type": "stream",
     "text": [
      "3\n",
      "5\n",
      "6\n",
      "12\n",
      "17\n",
      "21\n",
      "28\n",
      "36\n",
      "45\n",
      "49\n",
      "54\n",
      "60\n"
     ]
    }
   ],
   "source": [
    "r = 0\n",
    "for k in list1:\n",
    "    while k:\n",
    "        r, k = r + k % 10, k // 10\n",
    "        print(r)"
   ]
  },
  {
   "cell_type": "code",
   "execution_count": 140,
   "metadata": {},
   "outputs": [
    {
     "data": {
      "text/plain": [
       "[[123], [456], [987], [654]]"
      ]
     },
     "execution_count": 140,
     "metadata": {},
     "output_type": "execute_result"
    }
   ],
   "source": [
    "list2 = list(map(lambda j:[j], list1))\n",
    "list2"
   ]
  },
  {
   "cell_type": "code",
   "execution_count": 147,
   "metadata": {},
   "outputs": [
    {
     "name": "stdout",
     "output_type": "stream",
     "text": [
      "['1', '2', '3']\n",
      "['4', '5', '6']\n",
      "['9', '8', '7']\n",
      "['6', '5', '4']\n"
     ]
    }
   ],
   "source": [
    "for k in list2:\n",
    "    for l in k:\n",
    "        list3 = list(str(l))\n",
    "        print(list3)"
   ]
  },
  {
   "cell_type": "code",
   "execution_count": null,
   "metadata": {},
   "outputs": [],
   "source": []
  },
  {
   "cell_type": "code",
   "execution_count": 159,
   "metadata": {},
   "outputs": [],
   "source": [
    "def sum_digits3(n):\n",
    "   r = 0\n",
    "   while n:\n",
    "       r, n = r + n % 10, n // 10\n",
    "   return r"
   ]
  },
  {
   "cell_type": "code",
   "execution_count": 160,
   "metadata": {},
   "outputs": [
    {
     "data": {
      "text/plain": [
       "6"
      ]
     },
     "execution_count": 160,
     "metadata": {},
     "output_type": "execute_result"
    }
   ],
   "source": [
    "sum_digits3(123)"
   ]
  },
  {
   "cell_type": "code",
   "execution_count": 154,
   "metadata": {},
   "outputs": [],
   "source": [
    "def revrot2(strng, sz):\n",
    "    if not len(strng) or sz <= 0 or len(strng) < sz:\n",
    "        return ''\n",
    "\n",
    "    new_strng = ''\n",
    "    for strng_list in map(None, *([iter(strng)] * sz)):\n",
    "        if not None in strng_list:\n",
    "            new_strng += reverse_or_rotate(''.join(strng_list), sz)\n",
    "\n",
    "    return new_strng\n",
    "\n",
    "def reverse_or_rotate(string, limit):\n",
    "    sum = 0\n",
    "    for index, value in enumerate(string):\n",
    "        sum += pow(int(value), 2)\n",
    "\n",
    "    if sum % 2 == 0:\n",
    "        return string[::-1]\n",
    "\n",
    "    return string[1:limit] + string[0]"
   ]
  },
  {
   "cell_type": "code",
   "execution_count": 152,
   "metadata": {},
   "outputs": [],
   "source": []
  },
  {
   "cell_type": "code",
   "execution_count": 155,
   "metadata": {},
   "outputs": [
    {
     "ename": "TypeError",
     "evalue": "'NoneType' object is not callable",
     "output_type": "error",
     "traceback": [
      "\u001b[1;31m---------------------------------------------------------------------------\u001b[0m",
      "\u001b[1;31mTypeError\u001b[0m                                 Traceback (most recent call last)",
      "\u001b[1;32m<ipython-input-155-26542d12f8b7>\u001b[0m in \u001b[0;36m<module>\u001b[1;34m()\u001b[0m\n\u001b[1;32m----> 1\u001b[1;33m \u001b[0mrevrot2\u001b[0m\u001b[1;33m(\u001b[0m\u001b[1;34m\"123456987654\"\u001b[0m\u001b[1;33m,\u001b[0m \u001b[1;36m6\u001b[0m\u001b[1;33m)\u001b[0m\u001b[1;33m\u001b[0m\u001b[0m\n\u001b[0m",
      "\u001b[1;32m<ipython-input-154-aebc1ad1daf2>\u001b[0m in \u001b[0;36mrevrot2\u001b[1;34m(strng, sz)\u001b[0m\n\u001b[0;32m      4\u001b[0m \u001b[1;33m\u001b[0m\u001b[0m\n\u001b[0;32m      5\u001b[0m     \u001b[0mnew_strng\u001b[0m \u001b[1;33m=\u001b[0m \u001b[1;34m''\u001b[0m\u001b[1;33m\u001b[0m\u001b[0m\n\u001b[1;32m----> 6\u001b[1;33m     \u001b[1;32mfor\u001b[0m \u001b[0mstrng_list\u001b[0m \u001b[1;32min\u001b[0m \u001b[0mmap\u001b[0m\u001b[1;33m(\u001b[0m\u001b[1;32mNone\u001b[0m\u001b[1;33m,\u001b[0m \u001b[1;33m*\u001b[0m\u001b[1;33m(\u001b[0m\u001b[1;33m[\u001b[0m\u001b[0miter\u001b[0m\u001b[1;33m(\u001b[0m\u001b[0mstrng\u001b[0m\u001b[1;33m)\u001b[0m\u001b[1;33m]\u001b[0m \u001b[1;33m*\u001b[0m \u001b[0msz\u001b[0m\u001b[1;33m)\u001b[0m\u001b[1;33m)\u001b[0m\u001b[1;33m:\u001b[0m\u001b[1;33m\u001b[0m\u001b[0m\n\u001b[0m\u001b[0;32m      7\u001b[0m         \u001b[1;32mif\u001b[0m \u001b[1;32mnot\u001b[0m \u001b[1;32mNone\u001b[0m \u001b[1;32min\u001b[0m \u001b[0mstrng_list\u001b[0m\u001b[1;33m:\u001b[0m\u001b[1;33m\u001b[0m\u001b[0m\n\u001b[0;32m      8\u001b[0m             \u001b[0mnew_strng\u001b[0m \u001b[1;33m+=\u001b[0m \u001b[0mreverse_or_rotate\u001b[0m\u001b[1;33m(\u001b[0m\u001b[1;34m''\u001b[0m\u001b[1;33m.\u001b[0m\u001b[0mjoin\u001b[0m\u001b[1;33m(\u001b[0m\u001b[0mstrng_list\u001b[0m\u001b[1;33m)\u001b[0m\u001b[1;33m,\u001b[0m \u001b[0msz\u001b[0m\u001b[1;33m)\u001b[0m\u001b[1;33m\u001b[0m\u001b[0m\n",
      "\u001b[1;31mTypeError\u001b[0m: 'NoneType' object is not callable"
     ]
    }
   ],
   "source": [
    "revrot2(\"123456987654\", 6)"
   ]
  },
  {
   "cell_type": "code",
   "execution_count": 153,
   "metadata": {},
   "outputs": [
    {
     "ename": "SyntaxError",
     "evalue": "invalid syntax (<ipython-input-153-215e9be5de3b>, line 1)",
     "output_type": "error",
     "traceback": [
      "\u001b[1;36m  File \u001b[1;32m\"<ipython-input-153-215e9be5de3b>\"\u001b[1;36m, line \u001b[1;32m1\u001b[0m\n\u001b[1;33m    def reverse_or_rotate(\"123456987654\", 6)\u001b[0m\n\u001b[1;37m                                       ^\u001b[0m\n\u001b[1;31mSyntaxError\u001b[0m\u001b[1;31m:\u001b[0m invalid syntax\n"
     ]
    }
   ],
   "source": [
    "def reverse_or_rotate(\"123456987654\", 6)"
   ]
  },
  {
   "cell_type": "code",
   "execution_count": null,
   "metadata": {},
   "outputs": [],
   "source": []
  }
 ],
 "metadata": {
  "kernelspec": {
   "display_name": "Python 3",
   "language": "python",
   "name": "python3"
  },
  "language_info": {
   "codemirror_mode": {
    "name": "ipython",
    "version": 3
   },
   "file_extension": ".py",
   "mimetype": "text/x-python",
   "name": "python",
   "nbconvert_exporter": "python",
   "pygments_lexer": "ipython3",
   "version": "3.7.0"
  }
 },
 "nbformat": 4,
 "nbformat_minor": 2
}
