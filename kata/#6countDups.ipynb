{
 "cells": [
  {
   "cell_type": "markdown",
   "metadata": {},
   "source": [
    "Count the number of Duplicates\n",
    "Write a function that will return the count of distinct case-insensitive alphabetic characters and numeric digits \n",
    "that occur more than once in the input string. \n",
    "\n",
    "The input string can be assumed to contain only alphabets (both uppercase and lowercase) and numeric digits.\n",
    "\n",
    "Example\n",
    "- \"abcde\" -> 0 # no characters repeats more than once\n",
    "- \"aabbcde\" -> 2 # 'a' and 'b'\n",
    "- \"aabBcde\" -> 2 # 'a' occurs twice and 'b' twice (`b` and `B`)\n",
    "- \"indivisibility\" -> 1 # 'i' occurs six times\n",
    "- \"Indivisibilities\" -> 2 # 'i' occurs seven times and 's' occurs twice\n",
    "- \"aA11\" -> 2 # 'a' and '1'\n",
    "- \"ABBA\" -> 2 # 'A' and 'B' each occur twice"
   ]
  },
  {
   "cell_type": "code",
   "execution_count": 1,
   "metadata": {},
   "outputs": [],
   "source": [
    "# return number of repeat values"
   ]
  },
  {
   "cell_type": "code",
   "execution_count": null,
   "metadata": {},
   "outputs": [],
   "source": [
    "def duplicate_count(text):\n",
    "    # if count distinct i (lowercase) > 1, return \n",
    "    newtext = text.lower\n",
    "    count = 0\n",
    "    for i in range(list(newtext)):\n",
    "        if (i.lower.distinct) > 1:\n",
    "            return \n",
    "    # if count(num) > 1 return \n",
    "    else:\n",
    "        return 0"
   ]
  },
  {
   "cell_type": "code",
   "execution_count": null,
   "metadata": {},
   "outputs": [],
   "source": []
  },
  {
   "cell_type": "code",
   "execution_count": 6,
   "metadata": {},
   "outputs": [],
   "source": [
    "def duplicate_count(text):\n",
    "    new_text = text.lower()\n",
    "    count = 0\n",
    "    dictionary = {}\n",
    "    # for i in list of new string\n",
    "    for i in range(0,len(new_text)):\n",
    "        # add each i to dictionary of items\n",
    "        dictionary[new_text[i]] = 0\n",
    "    # for key in dict\n",
    "    for key in dictionary:\n",
    "        for i in range(0,len(new_text)):\n",
    "            # if the key in dictionary is equal to the existing i value in dictionary\n",
    "            if(key == new_text[i]):\n",
    "                # replace the previous dict value with += 1 \n",
    "                dictionary[key] = dictionary[key] + 1\n",
    "    # add 1 to the count, for every amount of keys > 1\n",
    "    for key in dictionary:\n",
    "        if(dictionary[key] > 1):\n",
    "            count = count + 1\n",
    "    print(dictionary)\n",
    "    return count"
   ]
  },
  {
   "cell_type": "code",
   "execution_count": 8,
   "metadata": {},
   "outputs": [
    {
     "name": "stdout",
     "output_type": "stream",
     "text": [
      "{'a': 2, 'b': 1, 'c': 1, 'd': 1, 'e': 1}\n"
     ]
    },
    {
     "data": {
      "text/plain": [
       "1"
      ]
     },
     "execution_count": 8,
     "metadata": {},
     "output_type": "execute_result"
    }
   ],
   "source": [
    "duplicate_count('aabcde')"
   ]
  },
  {
   "cell_type": "code",
   "execution_count": null,
   "metadata": {},
   "outputs": [],
   "source": []
  }
 ],
 "metadata": {
  "kernelspec": {
   "display_name": "Python 3",
   "language": "python",
   "name": "python3"
  },
  "language_info": {
   "codemirror_mode": {
    "name": "ipython",
    "version": 3
   },
   "file_extension": ".py",
   "mimetype": "text/x-python",
   "name": "python",
   "nbconvert_exporter": "python",
   "pygments_lexer": "ipython3",
   "version": "3.7.0"
  }
 },
 "nbformat": 4,
 "nbformat_minor": 2
}
