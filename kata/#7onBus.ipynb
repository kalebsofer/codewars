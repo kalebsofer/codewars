{
 "cells": [
  {
   "cell_type": "markdown",
   "metadata": {},
   "source": [
    "There is a bus moving in the city, and it takes and drop some people in each bus stop.\n",
    "\n",
    "You are provided with a list (or array) of integer arrays (or tuples). \n",
    "Each integer array has two items which represent number of people get into bus (The first item) and number of people get off the bus (The second item) in a bus stop.\n",
    "\n",
    "Your task is to return number of people who are still in the bus after the last bus station (after the last array). \n",
    "Even though it is the last bus stop, the bus is not empty and some people are still in the bus, and they are probably sleeping there :D\n",
    "\n",
    "Take a look on the test cases.\n",
    "\n",
    "Please keep in mind that the test cases ensure that the number of people in the bus is always >= 0. So the return integer can't be negative.\n",
    "\n",
    "The second value in the first integer array is 0, since the bus is empty in the first bus stop."
   ]
  },
  {
   "cell_type": "code",
   "execution_count": 20,
   "metadata": {},
   "outputs": [],
   "source": [
    "def number(bus_stops=list):\n",
    "    passengers = 0\n",
    "    for stops in bus_stops:\n",
    "        for stops[0] in stops:\n",
    "            for stops[1] in stops:\n",
    "                passengers += int(stops[0])\n",
    "                passengers -= int(stops[1])\n",
    "        return passengers"
   ]
  },
  {
   "cell_type": "code",
   "execution_count": 21,
   "metadata": {},
   "outputs": [
    {
     "data": {
      "text/plain": [
       "0"
      ]
     },
     "execution_count": 21,
     "metadata": {},
     "output_type": "execute_result"
    }
   ],
   "source": [
    "number([[3,0],[9,1],[4,10],[12,2],[6,1],[7,10]])"
   ]
  },
  {
   "cell_type": "code",
   "execution_count": 22,
   "metadata": {},
   "outputs": [],
   "source": [
    "def number2(bus_stops):\n",
    "    return sum([a[0] - a[1] for a in bus_stops])"
   ]
  },
  {
   "cell_type": "code",
   "execution_count": 23,
   "metadata": {},
   "outputs": [
    {
     "data": {
      "text/plain": [
       "17"
      ]
     },
     "execution_count": 23,
     "metadata": {},
     "output_type": "execute_result"
    }
   ],
   "source": [
    "number2([[3,0],[9,1],[4,10],[12,2],[6,1],[7,10]])"
   ]
  },
  {
   "cell_type": "code",
   "execution_count": null,
   "metadata": {},
   "outputs": [],
   "source": []
  }
 ],
 "metadata": {
  "kernelspec": {
   "display_name": "Python 3",
   "language": "python",
   "name": "python3"
  },
  "language_info": {
   "codemirror_mode": {
    "name": "ipython",
    "version": 3
   },
   "file_extension": ".py",
   "mimetype": "text/x-python",
   "name": "python",
   "nbconvert_exporter": "python",
   "pygments_lexer": "ipython3",
   "version": "3.7.0"
  }
 },
 "nbformat": 4,
 "nbformat_minor": 2
}
